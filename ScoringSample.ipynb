{
 "cells": [
  {
   "cell_type": "markdown",
   "id": "ce70f4f8",
   "metadata": {},
   "source": [
    "Описание данных:\n",
    "- age - возраст покупателей\n",
    "- DebtRatio - отношение месячных платежей к суммарному месячному доходу\n",
    "- NumberOfTime30-59DaysPastDueNotWorse - число случаев, когда клиент просрочил выплату на 30-59 дней\n",
    "- NumberOfTimes90DaysLate - число случаев, когда клиент просрочил на 90+ дней кредит\n",
    "- NumberOfTime60-89DaysPastDueNotWorse - число случаев, когда клиент просрочил кредит на 60-89 дней\n",
    "- NumberOfDependents - число иждивенцев\n",
    "- SeriousDlqin2yrs - целевая переменна"
   ]
  },
  {
   "cell_type": "code",
   "execution_count": 209,
   "id": "dbff681d",
   "metadata": {},
   "outputs": [],
   "source": [
    "# импортируем необходимые библиотеки\n",
    "import numpy as np\n",
    "import pandas as pd\n",
    "\n",
    "from scipy.stats import ttest_rel, ttest_ind, chi2_contingency, mannwhitneyu\n",
    "from statsmodels.stats.proportion import proportions_ztest, proportions_chisquare_pairscontrol\n",
    "from sklearn.linear_model import LogisticRegression\n",
    "from sklearn.model_selection import GridSearchCV, StratifiedKFold, train_test_split\n",
    "from sklearn.metrics import roc_auc_score, f1_score, confusion_matrix\n",
    "%matplotlib inline\n",
    "import matplotlib.pyplot as plt"
   ]
  },
  {
   "cell_type": "code",
   "execution_count": 2,
   "id": "aca5ee66",
   "metadata": {},
   "outputs": [
    {
     "data": {
      "text/html": [
       "<div>\n",
       "<style scoped>\n",
       "    .dataframe tbody tr th:only-of-type {\n",
       "        vertical-align: middle;\n",
       "    }\n",
       "\n",
       "    .dataframe tbody tr th {\n",
       "        vertical-align: top;\n",
       "    }\n",
       "\n",
       "    .dataframe thead th {\n",
       "        text-align: right;\n",
       "    }\n",
       "</style>\n",
       "<table border=\"1\" class=\"dataframe\">\n",
       "  <thead>\n",
       "    <tr style=\"text-align: right;\">\n",
       "      <th></th>\n",
       "      <th>SeriousDlqin2yrs</th>\n",
       "      <th>age</th>\n",
       "      <th>NumberOfTime30-59DaysPastDueNotWorse</th>\n",
       "      <th>DebtRatio</th>\n",
       "      <th>NumberOfTimes90DaysLate</th>\n",
       "      <th>NumberOfTime60-89DaysPastDueNotWorse</th>\n",
       "      <th>MonthlyIncome</th>\n",
       "      <th>NumberOfDependents</th>\n",
       "    </tr>\n",
       "  </thead>\n",
       "  <tbody>\n",
       "    <tr>\n",
       "      <th>0</th>\n",
       "      <td>0</td>\n",
       "      <td>64</td>\n",
       "      <td>0</td>\n",
       "      <td>0.249908</td>\n",
       "      <td>0</td>\n",
       "      <td>0</td>\n",
       "      <td>8158.0</td>\n",
       "      <td>0.0</td>\n",
       "    </tr>\n",
       "    <tr>\n",
       "      <th>1</th>\n",
       "      <td>0</td>\n",
       "      <td>58</td>\n",
       "      <td>0</td>\n",
       "      <td>3870.000000</td>\n",
       "      <td>0</td>\n",
       "      <td>0</td>\n",
       "      <td>NaN</td>\n",
       "      <td>0.0</td>\n",
       "    </tr>\n",
       "    <tr>\n",
       "      <th>2</th>\n",
       "      <td>0</td>\n",
       "      <td>41</td>\n",
       "      <td>0</td>\n",
       "      <td>0.456127</td>\n",
       "      <td>0</td>\n",
       "      <td>0</td>\n",
       "      <td>6666.0</td>\n",
       "      <td>0.0</td>\n",
       "    </tr>\n",
       "    <tr>\n",
       "      <th>3</th>\n",
       "      <td>0</td>\n",
       "      <td>43</td>\n",
       "      <td>0</td>\n",
       "      <td>0.000190</td>\n",
       "      <td>0</td>\n",
       "      <td>0</td>\n",
       "      <td>10500.0</td>\n",
       "      <td>2.0</td>\n",
       "    </tr>\n",
       "    <tr>\n",
       "      <th>4</th>\n",
       "      <td>1</td>\n",
       "      <td>49</td>\n",
       "      <td>0</td>\n",
       "      <td>0.271820</td>\n",
       "      <td>0</td>\n",
       "      <td>0</td>\n",
       "      <td>400.0</td>\n",
       "      <td>0.0</td>\n",
       "    </tr>\n",
       "  </tbody>\n",
       "</table>\n",
       "</div>"
      ],
      "text/plain": [
       "   SeriousDlqin2yrs  age  NumberOfTime30-59DaysPastDueNotWorse    DebtRatio  \\\n",
       "0                 0   64                                     0     0.249908   \n",
       "1                 0   58                                     0  3870.000000   \n",
       "2                 0   41                                     0     0.456127   \n",
       "3                 0   43                                     0     0.000190   \n",
       "4                 1   49                                     0     0.271820   \n",
       "\n",
       "   NumberOfTimes90DaysLate  NumberOfTime60-89DaysPastDueNotWorse  \\\n",
       "0                        0                                     0   \n",
       "1                        0                                     0   \n",
       "2                        0                                     0   \n",
       "3                        0                                     0   \n",
       "4                        0                                     0   \n",
       "\n",
       "   MonthlyIncome  NumberOfDependents  \n",
       "0         8158.0                 0.0  \n",
       "1            NaN                 0.0  \n",
       "2         6666.0                 0.0  \n",
       "3        10500.0                 2.0  \n",
       "4          400.0                 0.0  "
      ]
     },
     "execution_count": 2,
     "metadata": {},
     "output_type": "execute_result"
    }
   ],
   "source": [
    "# загрузим данные\n",
    "data = pd.read_csv('z:/Scoring/credit_scoring.csv')\n",
    "data.head()"
   ]
  },
  {
   "cell_type": "code",
   "execution_count": 3,
   "id": "b099ddaf",
   "metadata": {},
   "outputs": [
    {
     "name": "stdout",
     "output_type": "stream",
     "text": [
      "Distribution of the target:\n"
     ]
    },
    {
     "data": {
      "text/plain": [
       "0    0.777511\n",
       "1    0.222489\n",
       "Name: SeriousDlqin2yrs, dtype: float64"
      ]
     },
     "execution_count": 3,
     "metadata": {},
     "output_type": "execute_result"
    },
    {
     "data": {
      "image/png": "[encoded data removed]",
      "text/plain": [
       "<Figure size 640x480 with 1 Axes>"
      ]
     },
     "metadata": {},
     "output_type": "display_data"
    }
   ],
   "source": [
    "# Посмотрим как выглядит распределение целевой переменной\n",
    "ax = data['SeriousDlqin2yrs'].hist(orientation='horizontal', color='red')\n",
    "ax.set_xlabel(\"number_of_observations\")\n",
    "ax.set_ylabel(\"unique_value\")\n",
    "ax.set_title(\"Target distribution\")\n",
    "\n",
    "print('Distribution of the target:')\n",
    "data['SeriousDlqin2yrs'].value_counts()/data.shape[0]"
   ]
  },
  {
   "cell_type": "code",
   "execution_count": 4,
   "id": "a43bcb86",
   "metadata": {},
   "outputs": [],
   "source": [
    "cols_fill = [col for col in data.columns if col != \"SeriousDlqin2yrs\"]\n",
    "for c in cols_fill:\n",
    "    data[c] = data[c].fillna(data[c].median())"
   ]
  },
  {
   "cell_type": "code",
   "execution_count": 5,
   "id": "1135dbe3",
   "metadata": {},
   "outputs": [],
   "source": [
    "X = data[cols_fill]\n",
    "y = data['SeriousDlqin2yrs']"
   ]
  },
  {
   "cell_type": "code",
   "execution_count": 6,
   "id": "0a577c63",
   "metadata": {},
   "outputs": [
    {
     "data": {
      "text/plain": [
       "SeriousDlqin2yrs\n",
       "0    52.723093\n",
       "1    45.926591\n",
       "Name: age, dtype: float64"
      ]
     },
     "execution_count": 6,
     "metadata": {},
     "output_type": "execute_result"
    }
   ],
   "source": [
    "data.groupby(['SeriousDlqin2yrs'])['age'].mean()"
   ]
  },
  {
   "cell_type": "markdown",
   "id": "1ec5cd78",
   "metadata": {},
   "source": [
    "# A/B тест для оценки влияния возраста на MonthlyIncome"
   ]
  },
  {
   "cell_type": "code",
   "execution_count": 7,
   "id": "dfc20193",
   "metadata": {},
   "outputs": [
    {
     "data": {
      "text/plain": [
       "<AxesSubplot:>"
      ]
     },
     "execution_count": 7,
     "metadata": {},
     "output_type": "execute_result"
    },
    {
     "data": {
      "image/png": "[encoded data removed]",
      "text/plain": [
       "<Figure size 640x480 with 1 Axes>"
      ]
     },
     "metadata": {},
     "output_type": "display_data"
    }
   ],
   "source": [
    "data.age.hist()"
   ]
  },
  {
   "cell_type": "markdown",
   "id": "b669d972",
   "metadata": {},
   "source": [
    "Группы:\n",
    "\n",
    "Контрольная группа: клиенты в возрасте от 18 до 30 лет\n",
    "\n",
    "Тестовая группа: клиенты в возрасте от 31 до 40 лет\n",
    "\n",
    "Критерий: T-тест для независимых выборок."
   ]
  },
  {
   "cell_type": "code",
   "execution_count": 20,
   "id": "bb211c76",
   "metadata": {
    "scrolled": false
   },
   "outputs": [],
   "source": [
    "group_a = data.query('age >= 18 and age <=30')\n",
    "group_b = data.query('age >= 31 and age <= 40')"
   ]
  },
  {
   "cell_type": "code",
   "execution_count": 21,
   "id": "fbe09627",
   "metadata": {},
   "outputs": [],
   "source": [
    "t_stat, p_value = ttest_ind(group_a['MonthlyIncome'], group_b['MonthlyIncome'])"
   ]
  },
  {
   "cell_type": "code",
   "execution_count": 22,
   "id": "101c8286",
   "metadata": {
    "scrolled": true
   },
   "outputs": [
    {
     "name": "stdout",
     "output_type": "stream",
     "text": [
      "Разница между группами статистически значима\n"
     ]
    }
   ],
   "source": [
    "if p_value < 0.05:\n",
    "    print('Разница между группами статистически значима')\n",
    "else:\n",
    "    print('Разница между группами не является статистически значимой')"
   ]
  },
  {
   "cell_type": "markdown",
   "id": "6cdd8b99",
   "metadata": {},
   "source": [
    "Группы:\n",
    "\n",
    "Контрольная группа: клиенты в возрасте от 30 до 40 лет\n",
    "\n",
    "Тестовая группа: клиенты в возрасте от 41 до 50 лет\n",
    "\n",
    "Критерий: T-тест для независимых выборок."
   ]
  },
  {
   "cell_type": "code",
   "execution_count": 23,
   "id": "748af6ee",
   "metadata": {},
   "outputs": [],
   "source": [
    "group_a = data.query('age >= 30 and age <=30')\n",
    "group_b = data.query('age >= 41 and age <= 40')"
   ]
  },
  {
   "cell_type": "code",
   "execution_count": 24,
   "id": "ef8ab50c",
   "metadata": {},
   "outputs": [],
   "source": [
    "t_stat, p_value = ttest_ind(group_a['MonthlyIncome'], group_b['MonthlyIncome'])"
   ]
  },
  {
   "cell_type": "code",
   "execution_count": 25,
   "id": "e075ceda",
   "metadata": {},
   "outputs": [
    {
     "name": "stdout",
     "output_type": "stream",
     "text": [
      "Разница между группами не является статистически значимой\n"
     ]
    }
   ],
   "source": [
    "if p_value < 0.05:\n",
    "    print('Разница между группами статистически значима')\n",
    "else:\n",
    "    print('Разница между группами не является статистически значимой')"
   ]
  },
  {
   "cell_type": "markdown",
   "id": "0803d9e5",
   "metadata": {},
   "source": [
    "# Тестирование зависимости SeriousDlqin2yrs от количества иждивенцев"
   ]
  },
  {
   "cell_type": "code",
   "execution_count": 63,
   "id": "aaa49557",
   "metadata": {},
   "outputs": [
    {
     "data": {
      "image/png": "[encoded data removed]",
      "text/plain": [
       "<Figure size 640x480 with 1 Axes>"
      ]
     },
     "metadata": {},
     "output_type": "display_data"
    }
   ],
   "source": [
    "data.NumberOfDependents.hist();"
   ]
  },
  {
   "cell_type": "markdown",
   "id": "c19492a8",
   "metadata": {},
   "source": [
    "Группы:\n",
    "\n",
    "Контрольная группа: клиенты без иждивенцев\n",
    "\n",
    "Тестовая группа: клиенты с иждивенцами\n",
    "\n",
    "Критерий: Z-тест для разности долей."
   ]
  },
  {
   "cell_type": "code",
   "execution_count": 58,
   "id": "aa0be52b",
   "metadata": {},
   "outputs": [],
   "source": [
    "control_group = data[data['NumberOfDependents'] == 0]\n",
    "test_group = data[data['NumberOfDependents'] > 0]"
   ]
  },
  {
   "cell_type": "code",
   "execution_count": 59,
   "id": "ef0d760e",
   "metadata": {},
   "outputs": [],
   "source": [
    "control_success = control_group['SeriousDlqin2yrs'].sum()\n",
    "control_count = len(control_group)\n",
    "\n",
    "test_success = test_group['SeriousDlqin2yrs'].sum()\n",
    "test_count = len(test_group)"
   ]
  },
  {
   "cell_type": "code",
   "execution_count": 60,
   "id": "9aa644b8",
   "metadata": {},
   "outputs": [],
   "source": [
    "z_stat, p_value = proportions_ztest([test_success, control_success], [test_count, control_count])"
   ]
  },
  {
   "cell_type": "code",
   "execution_count": 61,
   "id": "59d0dc0c",
   "metadata": {},
   "outputs": [
    {
     "name": "stdout",
     "output_type": "stream",
     "text": [
      "Разница между группами статистически значима\n"
     ]
    }
   ],
   "source": [
    "if p_value < 0.05:\n",
    "    print('Разница между группами статистически значима')\n",
    "else:\n",
    "    print('Разница между группами не является статистически значимой')"
   ]
  },
  {
   "cell_type": "markdown",
   "id": "2725978e",
   "metadata": {},
   "source": [
    "Группы:\n",
    "\n",
    "Контрольная группа: клиенты с 2\n",
    "\n",
    "Тестовая группа: клиенты с иждивенцами\n",
    "\n",
    "Критерий: Z-тест для разности долей."
   ]
  },
  {
   "cell_type": "code",
   "execution_count": 100,
   "id": "8172c9f7",
   "metadata": {},
   "outputs": [],
   "source": [
    "control_group = data[data['NumberOfDependents'] == 2]\n",
    "test_group = data[data['NumberOfDependents'] == 5]"
   ]
  },
  {
   "cell_type": "code",
   "execution_count": 101,
   "id": "f9f0c85b",
   "metadata": {},
   "outputs": [],
   "source": [
    "control_success = control_group['SeriousDlqin2yrs'].sum()\n",
    "control_count = len(control_group)\n",
    "\n",
    "test_success = test_group['SeriousDlqin2yrs'].sum()\n",
    "test_count = len(test_group)"
   ]
  },
  {
   "cell_type": "code",
   "execution_count": 102,
   "id": "63a06678",
   "metadata": {},
   "outputs": [],
   "source": [
    "z_stat, p_value = proportions_ztest([test_success, control_success], [test_count, control_count])"
   ]
  },
  {
   "cell_type": "code",
   "execution_count": 103,
   "id": "756736ab",
   "metadata": {},
   "outputs": [
    {
     "name": "stdout",
     "output_type": "stream",
     "text": [
      "Разница между группами не является статистически значимой\n"
     ]
    }
   ],
   "source": [
    "if p_value < 0.05:\n",
    "    print('Разница между группами статистически значима')\n",
    "else:\n",
    "    print('Разница между группами не является статистически значимой')"
   ]
  },
  {
   "cell_type": "markdown",
   "id": "d6ea694e",
   "metadata": {},
   "source": [
    "# Тестирование зависимости SeriousDlqin2yrs от DebtRatio"
   ]
  },
  {
   "cell_type": "markdown",
   "id": "bb1bb96b",
   "metadata": {},
   "source": [
    "Группы:\n",
    "\n",
    "Контрольная группа: клиенты с DebtRatio <= 0.3\n",
    "\n",
    "Тестовая группа: клиенты с DebtRatio > 0.3\n",
    "\n",
    "Критерий: Z-тест для разности долей."
   ]
  },
  {
   "cell_type": "code",
   "execution_count": 125,
   "id": "b4cb929d",
   "metadata": {},
   "outputs": [],
   "source": [
    "control_group = data[data['DebtRatio'] <= 0.3]\n",
    "test_group = data[data['DebtRatio'] > 0.3]"
   ]
  },
  {
   "cell_type": "code",
   "execution_count": 126,
   "id": "2bfab632",
   "metadata": {},
   "outputs": [],
   "source": [
    "control_success = control_group['SeriousDlqin2yrs'].sum()\n",
    "control_count = len(control_group)\n",
    "test_success = test_group['SeriousDlqin2yrs'].sum()\n",
    "test_count = len(test_group)"
   ]
  },
  {
   "cell_type": "code",
   "execution_count": 127,
   "id": "fd6e162c",
   "metadata": {},
   "outputs": [],
   "source": [
    "z_stat, p_value = proportions_ztest([control_success, test_success], [control_count,test_count])"
   ]
  },
  {
   "cell_type": "code",
   "execution_count": 128,
   "id": "361c583b",
   "metadata": {},
   "outputs": [
    {
     "name": "stdout",
     "output_type": "stream",
     "text": [
      "Разница между группами статистически значима\n"
     ]
    }
   ],
   "source": [
    "if p_value < 0.05:\n",
    "    print('Разница между группами статистически значима')\n",
    "else:\n",
    "    print('Разница между группами не является статистически значимой')"
   ]
  },
  {
   "cell_type": "markdown",
   "id": "b2963974",
   "metadata": {},
   "source": [
    "# Тестирование зависимости MonthlyIncome от  NumberOfDependents"
   ]
  },
  {
   "cell_type": "markdown",
   "id": "a336f9dc",
   "metadata": {},
   "source": [
    "Группы:\n",
    "\n",
    "Контрольная группа: клиенты с NumberOfDependents = 0\n",
    "\n",
    "Тестовая группа: клиенты с NumberOfDependents > 0\n",
    "\n",
    "Критерий: T-тест для независимых выборок."
   ]
  },
  {
   "cell_type": "code",
   "execution_count": 156,
   "id": "15b8f19f",
   "metadata": {},
   "outputs": [],
   "source": [
    "control_group = data[data['NumberOfDependents'] == 0]['MonthlyIncome']\n",
    "test_group = data[data['NumberOfDependents'] > 0]['MonthlyIncome']"
   ]
  },
  {
   "cell_type": "code",
   "execution_count": 157,
   "id": "c2b58c23",
   "metadata": {},
   "outputs": [],
   "source": [
    "t_stat, p_value = ttest_ind(control_group, test_group)"
   ]
  },
  {
   "cell_type": "code",
   "execution_count": 158,
   "id": "906ee4a2",
   "metadata": {},
   "outputs": [
    {
     "name": "stdout",
     "output_type": "stream",
     "text": [
      "Разница между группами статистически значима\n"
     ]
    }
   ],
   "source": [
    "if p_value < 0.05:\n",
    "    print('Разница между группами статистически значима')\n",
    "else:\n",
    "    print('Разница между группами не является статистически значимой')"
   ]
  },
  {
   "cell_type": "markdown",
   "id": "2156b82f",
   "metadata": {},
   "source": [
    "# Тестирование зависимости DebtRatio от NumberOfDependents"
   ]
  },
  {
   "cell_type": "code",
   "execution_count": 208,
   "id": "826edf19",
   "metadata": {},
   "outputs": [
    {
     "data": {
      "text/plain": [
       "<AxesSubplot:>"
      ]
     },
     "execution_count": 208,
     "metadata": {},
     "output_type": "execute_result"
    },
    {
     "data": {
      "image/png": "[encoded data removed]",
      "text/plain": [
       "<Figure size 640x480 with 1 Axes>"
      ]
     },
     "metadata": {},
     "output_type": "display_data"
    }
   ],
   "source": [
    "data.DebtRatio.hist()"
   ]
  },
  {
   "cell_type": "code",
   "execution_count": 223,
   "id": "07e1983e",
   "metadata": {},
   "outputs": [],
   "source": [
    "control_group = data[data['NumberOfDependents'] == 0]['DebtRatio']\n",
    "test_group = data[data['NumberOfDependents'] > 0]['DebtRatio']"
   ]
  },
  {
   "cell_type": "code",
   "execution_count": 224,
   "id": "840439b3",
   "metadata": {},
   "outputs": [],
   "source": [
    "u_stat, p_value = mannwhitneyu(control_group, test_group)"
   ]
  },
  {
   "cell_type": "code",
   "execution_count": 225,
   "id": "6c53c5dd",
   "metadata": {},
   "outputs": [
    {
     "name": "stdout",
     "output_type": "stream",
     "text": [
      "Разница между группами статистически значима\n"
     ]
    }
   ],
   "source": [
    "if p_value < 0.05:\n",
    "    print('Разница между группами статистически значима')\n",
    "else:\n",
    "    print('Разница между группами не является статистически значимой')"
   ]
  },
  {
   "cell_type": "code",
   "execution_count": 238,
   "id": "a74b8ecd",
   "metadata": {},
   "outputs": [],
   "source": [
    "control_group = data[data['NumberOfDependents'] == 4]['DebtRatio']\n",
    "test_group = data[data['NumberOfDependents'] == 6]['DebtRatio']"
   ]
  },
  {
   "cell_type": "code",
   "execution_count": 239,
   "id": "71ca736b",
   "metadata": {},
   "outputs": [],
   "source": [
    "u_stat, p_value = mannwhitneyu(control_group, test_group)"
   ]
  },
  {
   "cell_type": "code",
   "execution_count": 240,
   "id": "b27f2fdb",
   "metadata": {},
   "outputs": [
    {
     "name": "stdout",
     "output_type": "stream",
     "text": [
      "Разница между группами не является статистически значимой\n"
     ]
    }
   ],
   "source": [
    "if p_value < 0.05:\n",
    "    print('Разница между группами статистически значима')\n",
    "else:\n",
    "    print('Разница между группами не является статистически значимой')"
   ]
  }
 ],
 "metadata": {
  "kernelspec": {
   "display_name": "Python 3 (ipykernel)",
   "language": "python",
   "name": "python3"
  },
  "language_info": {
   "codemirror_mode": {
    "name": "ipython",
    "version": 3
   },
   "file_extension": ".py",
   "mimetype": "text/x-python",
   "name": "python",
   "nbconvert_exporter": "python",
   "pygments_lexer": "ipython3",
   "version": "3.9.13"
  }
 },
 "nbformat": 4,
 "nbformat_minor": 5
}
